{
 "cells": [
  {
   "cell_type": "code",
   "execution_count": null,
   "id": "6e330ffb",
   "metadata": {},
   "outputs": [],
   "source": [
    "import requests\n",
    "import pandas as pd\n",
    "\n",
    "url = 'https://api.ethplorer.io'"
   ]
  },
  {
   "cell_type": "markdown",
   "id": "e7dc7bbb",
   "metadata": {},
   "source": [
    "# Block Data"
   ]
  },
  {
   "cell_type": "code",
   "execution_count": null,
   "id": "2705ec30",
   "metadata": {},
   "outputs": [],
   "source": [
    "requests.get(url+'/getLastBlock?apiKey=freekey').json()"
   ]
  },
  {
   "cell_type": "markdown",
   "id": "e2d69b6f",
   "metadata": {},
   "source": [
    "# Token Info"
   ]
  },
  {
   "cell_type": "code",
   "execution_count": null,
   "id": "76580f20",
   "metadata": {},
   "outputs": [],
   "source": [
    "requests.get(url+'/getTokenInfo/0xec54c2394836bd60da64b8c3656a4a8980010fb8?apiKey=freekey').json()"
   ]
  },
  {
   "cell_type": "markdown",
   "id": "c75a76d9",
   "metadata": {},
   "source": [
    "# Address Info"
   ]
  },
  {
   "cell_type": "code",
   "execution_count": null,
   "id": "285547fd",
   "metadata": {},
   "outputs": [],
   "source": [
    "requests.get(url+'/getAddressInfo/0xff71cb760666ab06aa73f34995b42dd4b85ea07b?apiKey=freekey').json()"
   ]
  },
  {
   "cell_type": "markdown",
   "id": "7addcef1",
   "metadata": {},
   "source": [
    "# Transaction info"
   ]
  },
  {
   "cell_type": "code",
   "execution_count": null,
   "id": "09afc445",
   "metadata": {},
   "outputs": [],
   "source": [
    "requests.get(url+'/getTxInfo/0x6aa670c983425eba23314459c48ae89b3b8d0e1089397c56400ce2da5ece9d26?apiKey=freekey').json()"
   ]
  },
  {
   "cell_type": "markdown",
   "id": "0f3d5893",
   "metadata": {},
   "source": [
    "# Token History"
   ]
  },
  {
   "cell_type": "code",
   "execution_count": null,
   "id": "1e1ae546",
   "metadata": {},
   "outputs": [],
   "source": [
    "requests.get(url+'/getTokenHistory/0xff71cb760666ab06aa73f34995b42dd4b85ea07b?apiKey=freekey&type=transfer&limit=2').json()"
   ]
  },
  {
   "cell_type": "markdown",
   "id": "47e5ac3e",
   "metadata": {},
   "source": [
    "# Token History Grouped"
   ]
  },
  {
   "cell_type": "code",
   "execution_count": null,
   "id": "51175af5",
   "metadata": {},
   "outputs": [],
   "source": [
    "requests.get(url+'/getTokenHistoryGrouped/0xf3db5fa2c66b7af3eb0c0b782510816cbe4813b8?apiKey=freekey&period=60').json()"
   ]
  },
  {
   "cell_type": "markdown",
   "id": "9bf8c8e3",
   "metadata": {},
   "source": [
    "# Get top"
   ]
  },
  {
   "cell_type": "code",
   "execution_count": null,
   "id": "b6acfa50",
   "metadata": {},
   "outputs": [],
   "source": [
    "top_market_cap = pd.DataFrame(requests.get(url+'/getTop?apiKey=freekey&criteria=cap').json()['tokens'])\n",
    "top_market_cap.head().T"
   ]
  },
  {
   "cell_type": "markdown",
   "id": "283b27a6",
   "metadata": {},
   "source": [
    "# Top token holders"
   ]
  },
  {
   "cell_type": "code",
   "execution_count": null,
   "id": "9d867172",
   "metadata": {},
   "outputs": [],
   "source": [
    "top_holders = pd.DataFrame(requests.get(url+'/getTopTokenHolders/0xec54c2394836bd60da64b8c3656a4a8980010fb8?apiKey=freekey&limit=10').json()['holders'])\n",
    "top_holders"
   ]
  },
  {
   "cell_type": "markdown",
   "id": "d2eba9f2",
   "metadata": {},
   "source": [
    "# Get New Tokens"
   ]
  },
  {
   "cell_type": "code",
   "execution_count": null,
   "id": "3d3f04d8",
   "metadata": {},
   "outputs": [],
   "source": [
    "new_tokens = pd.DataFrame(requests.get(url+'/getTokensNew?apiKey=freekey').json())\n",
    "new_tokens.head().T"
   ]
  },
  {
   "cell_type": "markdown",
   "id": "d42ff427",
   "metadata": {},
   "source": [
    "# Get Address History"
   ]
  },
  {
   "cell_type": "code",
   "execution_count": null,
   "id": "ac03f206",
   "metadata": {},
   "outputs": [],
   "source": [
    "history = pd.DataFrame(requests.get(url+'/getAddressHistory/0x1f5006dff7e123d550abc8a4c46792518401fcaf?apiKey=freekey&type=transfer').json()['operations'])\n",
    "history.head().T"
   ]
  },
  {
   "cell_type": "code",
   "execution_count": null,
   "id": "387234fc",
   "metadata": {},
   "outputs": [],
   "source": []
  }
 ],
 "metadata": {
  "kernelspec": {
   "display_name": "Python 3 (ipykernel)",
   "language": "python",
   "name": "python3"
  },
  "language_info": {
   "codemirror_mode": {
    "name": "ipython",
    "version": 3
   },
   "file_extension": ".py",
   "mimetype": "text/x-python",
   "name": "python",
   "nbconvert_exporter": "python",
   "pygments_lexer": "ipython3",
   "version": "3.8.8"
  }
 },
 "nbformat": 4,
 "nbformat_minor": 5
}
